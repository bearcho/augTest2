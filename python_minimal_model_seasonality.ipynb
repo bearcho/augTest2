{
 "cells": [
  {
   "cell_type": "markdown",
   "metadata": {},
   "source": [
    "# 계절성 지수 산출모델"
   ]
  },
  {
   "cell_type": "code",
   "execution_count": 1,
   "metadata": {},
   "outputs": [],
   "source": [
    "import pandas as pd\n",
    "import numpy as np\n",
    "import math"
   ]
  },
  {
   "cell_type": "markdown",
   "metadata": {},
   "source": [
    "## 01.데이터 불러오기  (과거 3년 판매실적)"
   ]
  },
  {
   "cell_type": "markdown",
   "metadata": {},
   "source": [
    "##### 1. csv 파일 통해 불러오기"
   ]
  },
  {
   "cell_type": "code",
   "execution_count": 2,
   "metadata": {},
   "outputs": [],
   "source": [
    "sellOutDt3Year= pd.read_csv(\"../dataset/kopo_channel_seasonality_new.csv\")"
   ]
  },
  {
   "cell_type": "code",
   "execution_count": 3,
   "metadata": {},
   "outputs": [
    {
     "data": {
      "text/html": [
       "<div>\n",
       "<style scoped>\n",
       "    .dataframe tbody tr th:only-of-type {\n",
       "        vertical-align: middle;\n",
       "    }\n",
       "\n",
       "    .dataframe tbody tr th {\n",
       "        vertical-align: top;\n",
       "    }\n",
       "\n",
       "    .dataframe thead th {\n",
       "        text-align: right;\n",
       "    }\n",
       "</style>\n",
       "<table border=\"1\" class=\"dataframe\">\n",
       "  <thead>\n",
       "    <tr style=\"text-align: right;\">\n",
       "      <th></th>\n",
       "      <th>REGIONID</th>\n",
       "      <th>PRODUCT</th>\n",
       "      <th>YEARWEEK</th>\n",
       "      <th>QTY</th>\n",
       "    </tr>\n",
       "  </thead>\n",
       "  <tbody>\n",
       "    <tr>\n",
       "      <th>0</th>\n",
       "      <td>A60</td>\n",
       "      <td>PRODUCT4</td>\n",
       "      <td>201402</td>\n",
       "      <td>71.0</td>\n",
       "    </tr>\n",
       "    <tr>\n",
       "      <th>1</th>\n",
       "      <td>A60</td>\n",
       "      <td>PRODUCT59</td>\n",
       "      <td>201402</td>\n",
       "      <td>22275.0</td>\n",
       "    </tr>\n",
       "    <tr>\n",
       "      <th>2</th>\n",
       "      <td>A60</td>\n",
       "      <td>PRODUCT34</td>\n",
       "      <td>201402</td>\n",
       "      <td>4463.0</td>\n",
       "    </tr>\n",
       "    <tr>\n",
       "      <th>3</th>\n",
       "      <td>A60</td>\n",
       "      <td>PRODUCT47</td>\n",
       "      <td>201402</td>\n",
       "      <td>0.0</td>\n",
       "    </tr>\n",
       "    <tr>\n",
       "      <th>4</th>\n",
       "      <td>A60</td>\n",
       "      <td>PRODUCT56</td>\n",
       "      <td>201402</td>\n",
       "      <td>23.0</td>\n",
       "    </tr>\n",
       "  </tbody>\n",
       "</table>\n",
       "</div>"
      ],
      "text/plain": [
       "  REGIONID    PRODUCT  YEARWEEK      QTY\n",
       "0      A60   PRODUCT4    201402     71.0\n",
       "1      A60  PRODUCT59    201402  22275.0\n",
       "2      A60  PRODUCT34    201402   4463.0\n",
       "3      A60  PRODUCT47    201402      0.0\n",
       "4      A60  PRODUCT56    201402     23.0"
      ]
     },
     "execution_count": 3,
     "metadata": {},
     "output_type": "execute_result"
    }
   ],
   "source": [
    "sellOutDt3Year.head()"
   ]
  },
  {
   "cell_type": "code",
   "execution_count": 4,
   "metadata": {},
   "outputs": [
    {
     "name": "stdout",
     "output_type": "stream",
     "text": [
      "REGIONID     object\n",
      "PRODUCT      object\n",
      "YEARWEEK      int64\n",
      "QTY         float64\n",
      "dtype: object\n"
     ]
    }
   ],
   "source": [
    "print(sellOutDt3Year.dtypes)"
   ]
  },
  {
   "cell_type": "markdown",
   "metadata": {},
   "source": [
    "## 02. 로딩 데이터 기본정제"
   ]
  },
  {
   "cell_type": "markdown",
   "metadata": {},
   "source": [
    "##### 1. 컬럼명  전체 소문자로 변경"
   ]
  },
  {
   "cell_type": "code",
   "execution_count": 5,
   "metadata": {},
   "outputs": [],
   "source": [
    "sellOutDt3Year.columns = sellOutDt3Year.columns.str.lower()"
   ]
  },
  {
   "cell_type": "markdown",
   "metadata": {},
   "source": [
    "##### 2. 키 컬럼 생성 (예: regionid + product -> key)"
   ]
  },
  {
   "cell_type": "code",
   "execution_count": 6,
   "metadata": {},
   "outputs": [],
   "source": [
    "sellOutDt3Year[\"keycol\"] = sellOutDt3Year[\"regionid\"]+'_'+sellOutDt3Year[\"product\"] "
   ]
  },
  {
   "cell_type": "code",
   "execution_count": 7,
   "metadata": {},
   "outputs": [
    {
     "data": {
      "text/html": [
       "<div>\n",
       "<style scoped>\n",
       "    .dataframe tbody tr th:only-of-type {\n",
       "        vertical-align: middle;\n",
       "    }\n",
       "\n",
       "    .dataframe tbody tr th {\n",
       "        vertical-align: top;\n",
       "    }\n",
       "\n",
       "    .dataframe thead th {\n",
       "        text-align: right;\n",
       "    }\n",
       "</style>\n",
       "<table border=\"1\" class=\"dataframe\">\n",
       "  <thead>\n",
       "    <tr style=\"text-align: right;\">\n",
       "      <th></th>\n",
       "      <th>regionid</th>\n",
       "      <th>product</th>\n",
       "      <th>yearweek</th>\n",
       "      <th>qty</th>\n",
       "      <th>keycol</th>\n",
       "    </tr>\n",
       "  </thead>\n",
       "  <tbody>\n",
       "    <tr>\n",
       "      <th>0</th>\n",
       "      <td>A60</td>\n",
       "      <td>PRODUCT4</td>\n",
       "      <td>201402</td>\n",
       "      <td>71.0</td>\n",
       "      <td>A60_PRODUCT4</td>\n",
       "    </tr>\n",
       "    <tr>\n",
       "      <th>1</th>\n",
       "      <td>A60</td>\n",
       "      <td>PRODUCT59</td>\n",
       "      <td>201402</td>\n",
       "      <td>22275.0</td>\n",
       "      <td>A60_PRODUCT59</td>\n",
       "    </tr>\n",
       "    <tr>\n",
       "      <th>2</th>\n",
       "      <td>A60</td>\n",
       "      <td>PRODUCT34</td>\n",
       "      <td>201402</td>\n",
       "      <td>4463.0</td>\n",
       "      <td>A60_PRODUCT34</td>\n",
       "    </tr>\n",
       "    <tr>\n",
       "      <th>3</th>\n",
       "      <td>A60</td>\n",
       "      <td>PRODUCT47</td>\n",
       "      <td>201402</td>\n",
       "      <td>0.0</td>\n",
       "      <td>A60_PRODUCT47</td>\n",
       "    </tr>\n",
       "    <tr>\n",
       "      <th>4</th>\n",
       "      <td>A60</td>\n",
       "      <td>PRODUCT56</td>\n",
       "      <td>201402</td>\n",
       "      <td>23.0</td>\n",
       "      <td>A60_PRODUCT56</td>\n",
       "    </tr>\n",
       "  </tbody>\n",
       "</table>\n",
       "</div>"
      ],
      "text/plain": [
       "  regionid    product  yearweek      qty         keycol\n",
       "0      A60   PRODUCT4    201402     71.0   A60_PRODUCT4\n",
       "1      A60  PRODUCT59    201402  22275.0  A60_PRODUCT59\n",
       "2      A60  PRODUCT34    201402   4463.0  A60_PRODUCT34\n",
       "3      A60  PRODUCT47    201402      0.0  A60_PRODUCT47\n",
       "4      A60  PRODUCT56    201402     23.0  A60_PRODUCT56"
      ]
     },
     "execution_count": 7,
     "metadata": {},
     "output_type": "execute_result"
    }
   ],
   "source": [
    "sellOutDt3Year.head()"
   ]
  },
  {
   "cell_type": "code",
   "execution_count": 8,
   "metadata": {},
   "outputs": [],
   "source": [
    "##### 3. 컬럼명 변경\n",
    "#selloutDataFromOracle.rename(columns={\"regionid\":\"accountid\"}, inplace = True)"
   ]
  },
  {
   "cell_type": "markdown",
   "metadata": {},
   "source": [
    "##### 3. 컬럼위치 변경"
   ]
  },
  {
   "cell_type": "code",
   "execution_count": 9,
   "metadata": {},
   "outputs": [],
   "source": [
    "sellOutDt3Year = sellOutDt3Year[[\"keycol\",\"regionid\",\"product\",\"yearweek\",\"qty\"]]"
   ]
  },
  {
   "cell_type": "code",
   "execution_count": 10,
   "metadata": {},
   "outputs": [
    {
     "data": {
      "text/plain": [
       "keycol       object\n",
       "regionid     object\n",
       "product      object\n",
       "yearweek      int64\n",
       "qty         float64\n",
       "dtype: object"
      ]
     },
     "execution_count": 10,
     "metadata": {},
     "output_type": "execute_result"
    }
   ],
   "source": [
    "sellOutDt3Year.dtypes"
   ]
  },
  {
   "cell_type": "markdown",
   "metadata": {},
   "source": [
    "## 03. 데이터 정제"
   ]
  },
  {
   "cell_type": "markdown",
   "metadata": {},
   "source": [
    "##### 1. 특정 제품군으로 필터 (TBD: 파라미터 통해)"
   ]
  },
  {
   "cell_type": "code",
   "execution_count": 11,
   "metadata": {},
   "outputs": [
    {
     "data": {
      "text/html": [
       "<div>\n",
       "<style scoped>\n",
       "    .dataframe tbody tr th:only-of-type {\n",
       "        vertical-align: middle;\n",
       "    }\n",
       "\n",
       "    .dataframe tbody tr th {\n",
       "        vertical-align: top;\n",
       "    }\n",
       "\n",
       "    .dataframe thead th {\n",
       "        text-align: right;\n",
       "    }\n",
       "</style>\n",
       "<table border=\"1\" class=\"dataframe\">\n",
       "  <thead>\n",
       "    <tr style=\"text-align: right;\">\n",
       "      <th></th>\n",
       "      <th>keycol</th>\n",
       "      <th>regionid</th>\n",
       "      <th>product</th>\n",
       "      <th>yearweek</th>\n",
       "      <th>qty</th>\n",
       "    </tr>\n",
       "  </thead>\n",
       "  <tbody>\n",
       "    <tr>\n",
       "      <th>0</th>\n",
       "      <td>A60_PRODUCT4</td>\n",
       "      <td>A60</td>\n",
       "      <td>PRODUCT4</td>\n",
       "      <td>201402</td>\n",
       "      <td>71.0</td>\n",
       "    </tr>\n",
       "    <tr>\n",
       "      <th>1</th>\n",
       "      <td>A60_PRODUCT59</td>\n",
       "      <td>A60</td>\n",
       "      <td>PRODUCT59</td>\n",
       "      <td>201402</td>\n",
       "      <td>22275.0</td>\n",
       "    </tr>\n",
       "    <tr>\n",
       "      <th>2</th>\n",
       "      <td>A60_PRODUCT34</td>\n",
       "      <td>A60</td>\n",
       "      <td>PRODUCT34</td>\n",
       "      <td>201402</td>\n",
       "      <td>4463.0</td>\n",
       "    </tr>\n",
       "    <tr>\n",
       "      <th>3</th>\n",
       "      <td>A60_PRODUCT47</td>\n",
       "      <td>A60</td>\n",
       "      <td>PRODUCT47</td>\n",
       "      <td>201402</td>\n",
       "      <td>0.0</td>\n",
       "    </tr>\n",
       "    <tr>\n",
       "      <th>4</th>\n",
       "      <td>A60_PRODUCT56</td>\n",
       "      <td>A60</td>\n",
       "      <td>PRODUCT56</td>\n",
       "      <td>201402</td>\n",
       "      <td>23.0</td>\n",
       "    </tr>\n",
       "  </tbody>\n",
       "</table>\n",
       "</div>"
      ],
      "text/plain": [
       "          keycol regionid    product  yearweek      qty\n",
       "0   A60_PRODUCT4      A60   PRODUCT4    201402     71.0\n",
       "1  A60_PRODUCT59      A60  PRODUCT59    201402  22275.0\n",
       "2  A60_PRODUCT34      A60  PRODUCT34    201402   4463.0\n",
       "3  A60_PRODUCT47      A60  PRODUCT47    201402      0.0\n",
       "4  A60_PRODUCT56      A60  PRODUCT56    201402     23.0"
      ]
     },
     "execution_count": 11,
     "metadata": {},
     "output_type": "execute_result"
    }
   ],
   "source": [
    "sellOutDt3Year.head()"
   ]
  },
  {
   "cell_type": "code",
   "execution_count": 12,
   "metadata": {},
   "outputs": [],
   "source": [
    "f1sellOutDt3Year = sellOutDt3Year"
   ]
  },
  {
   "cell_type": "markdown",
   "metadata": {},
   "source": [
    "##### 2. 53주차 값 제거 및 qty 음수값 제거"
   ]
  },
  {
   "cell_type": "code",
   "execution_count": 13,
   "metadata": {},
   "outputs": [],
   "source": [
    "f1sellOutDt3Year = f1sellOutDt3Year[ f1sellOutDt3Year.yearweek.astype(str).str[4:] != '53']"
   ]
  },
  {
   "cell_type": "code",
   "execution_count": 14,
   "metadata": {},
   "outputs": [
    {
     "data": {
      "text/html": [
       "<div>\n",
       "<style scoped>\n",
       "    .dataframe tbody tr th:only-of-type {\n",
       "        vertical-align: middle;\n",
       "    }\n",
       "\n",
       "    .dataframe tbody tr th {\n",
       "        vertical-align: top;\n",
       "    }\n",
       "\n",
       "    .dataframe thead th {\n",
       "        text-align: right;\n",
       "    }\n",
       "</style>\n",
       "<table border=\"1\" class=\"dataframe\">\n",
       "  <thead>\n",
       "    <tr style=\"text-align: right;\">\n",
       "      <th></th>\n",
       "      <th>keycol</th>\n",
       "      <th>regionid</th>\n",
       "      <th>product</th>\n",
       "      <th>yearweek</th>\n",
       "      <th>qty</th>\n",
       "    </tr>\n",
       "  </thead>\n",
       "  <tbody>\n",
       "    <tr>\n",
       "      <th>0</th>\n",
       "      <td>A60_PRODUCT4</td>\n",
       "      <td>A60</td>\n",
       "      <td>PRODUCT4</td>\n",
       "      <td>201402</td>\n",
       "      <td>71.0</td>\n",
       "    </tr>\n",
       "    <tr>\n",
       "      <th>1</th>\n",
       "      <td>A60_PRODUCT59</td>\n",
       "      <td>A60</td>\n",
       "      <td>PRODUCT59</td>\n",
       "      <td>201402</td>\n",
       "      <td>22275.0</td>\n",
       "    </tr>\n",
       "    <tr>\n",
       "      <th>2</th>\n",
       "      <td>A60_PRODUCT34</td>\n",
       "      <td>A60</td>\n",
       "      <td>PRODUCT34</td>\n",
       "      <td>201402</td>\n",
       "      <td>4463.0</td>\n",
       "    </tr>\n",
       "    <tr>\n",
       "      <th>3</th>\n",
       "      <td>A60_PRODUCT47</td>\n",
       "      <td>A60</td>\n",
       "      <td>PRODUCT47</td>\n",
       "      <td>201402</td>\n",
       "      <td>0.0</td>\n",
       "    </tr>\n",
       "    <tr>\n",
       "      <th>4</th>\n",
       "      <td>A60_PRODUCT56</td>\n",
       "      <td>A60</td>\n",
       "      <td>PRODUCT56</td>\n",
       "      <td>201402</td>\n",
       "      <td>23.0</td>\n",
       "    </tr>\n",
       "  </tbody>\n",
       "</table>\n",
       "</div>"
      ],
      "text/plain": [
       "          keycol regionid    product  yearweek      qty\n",
       "0   A60_PRODUCT4      A60   PRODUCT4    201402     71.0\n",
       "1  A60_PRODUCT59      A60  PRODUCT59    201402  22275.0\n",
       "2  A60_PRODUCT34      A60  PRODUCT34    201402   4463.0\n",
       "3  A60_PRODUCT47      A60  PRODUCT47    201402      0.0\n",
       "4  A60_PRODUCT56      A60  PRODUCT56    201402     23.0"
      ]
     },
     "execution_count": 14,
     "metadata": {},
     "output_type": "execute_result"
    }
   ],
   "source": [
    "f1sellOutDt3Year.head()"
   ]
  },
  {
   "cell_type": "markdown",
   "metadata": {},
   "source": [
    "##### 3. QTY 0 제거 [반품 -> 0]"
   ]
  },
  {
   "cell_type": "code",
   "execution_count": 15,
   "metadata": {
    "scrolled": true
   },
   "outputs": [
    {
     "name": "stderr",
     "output_type": "stream",
     "text": [
      "C:\\Users\\kopo\\Anaconda3\\lib\\site-packages\\pandas\\core\\indexing.py:543: SettingWithCopyWarning: \n",
      "A value is trying to be set on a copy of a slice from a DataFrame.\n",
      "Try using .loc[row_indexer,col_indexer] = value instead\n",
      "\n",
      "See the caveats in the documentation: http://pandas.pydata.org/pandas-docs/stable/indexing.html#indexing-view-versus-copy\n",
      "  self.obj[item] = s\n"
     ]
    },
    {
     "data": {
      "text/html": [
       "<div>\n",
       "<style scoped>\n",
       "    .dataframe tbody tr th:only-of-type {\n",
       "        vertical-align: middle;\n",
       "    }\n",
       "\n",
       "    .dataframe tbody tr th {\n",
       "        vertical-align: top;\n",
       "    }\n",
       "\n",
       "    .dataframe thead th {\n",
       "        text-align: right;\n",
       "    }\n",
       "</style>\n",
       "<table border=\"1\" class=\"dataframe\">\n",
       "  <thead>\n",
       "    <tr style=\"text-align: right;\">\n",
       "      <th></th>\n",
       "      <th>keycol</th>\n",
       "      <th>regionid</th>\n",
       "      <th>product</th>\n",
       "      <th>yearweek</th>\n",
       "      <th>qty</th>\n",
       "    </tr>\n",
       "  </thead>\n",
       "  <tbody>\n",
       "    <tr>\n",
       "      <th>0</th>\n",
       "      <td>A60_PRODUCT4</td>\n",
       "      <td>A60</td>\n",
       "      <td>PRODUCT4</td>\n",
       "      <td>201402</td>\n",
       "      <td>71.0</td>\n",
       "    </tr>\n",
       "    <tr>\n",
       "      <th>1</th>\n",
       "      <td>A60_PRODUCT59</td>\n",
       "      <td>A60</td>\n",
       "      <td>PRODUCT59</td>\n",
       "      <td>201402</td>\n",
       "      <td>22275.0</td>\n",
       "    </tr>\n",
       "    <tr>\n",
       "      <th>2</th>\n",
       "      <td>A60_PRODUCT34</td>\n",
       "      <td>A60</td>\n",
       "      <td>PRODUCT34</td>\n",
       "      <td>201402</td>\n",
       "      <td>4463.0</td>\n",
       "    </tr>\n",
       "    <tr>\n",
       "      <th>3</th>\n",
       "      <td>A60_PRODUCT47</td>\n",
       "      <td>A60</td>\n",
       "      <td>PRODUCT47</td>\n",
       "      <td>201402</td>\n",
       "      <td>0.0</td>\n",
       "    </tr>\n",
       "    <tr>\n",
       "      <th>4</th>\n",
       "      <td>A60_PRODUCT56</td>\n",
       "      <td>A60</td>\n",
       "      <td>PRODUCT56</td>\n",
       "      <td>201402</td>\n",
       "      <td>23.0</td>\n",
       "    </tr>\n",
       "  </tbody>\n",
       "</table>\n",
       "</div>"
      ],
      "text/plain": [
       "          keycol regionid    product  yearweek      qty\n",
       "0   A60_PRODUCT4      A60   PRODUCT4    201402     71.0\n",
       "1  A60_PRODUCT59      A60  PRODUCT59    201402  22275.0\n",
       "2  A60_PRODUCT34      A60  PRODUCT34    201402   4463.0\n",
       "3  A60_PRODUCT47      A60  PRODUCT47    201402      0.0\n",
       "4  A60_PRODUCT56      A60  PRODUCT56    201402     23.0"
      ]
     },
     "execution_count": 15,
     "metadata": {},
     "output_type": "execute_result"
    }
   ],
   "source": [
    "f1sellOutDt3Year.loc[ f1sellOutDt3Year.qty < 0 , 'qty']= 0\n",
    "f1sellOutDt3Year.loc[ f1sellOutDt3Year.qty > 0 , 'qty']= f1sellOutDt3Year.qty\n",
    "f1sellOutDt3Year.head()"
   ]
  },
  {
   "cell_type": "code",
   "execution_count": 16,
   "metadata": {},
   "outputs": [
    {
     "name": "stdout",
     "output_type": "stream",
     "text": [
      "keycol       object\n",
      "regionid     object\n",
      "product      object\n",
      "yearweek      int64\n",
      "qty         float64\n",
      "dtype: object\n"
     ]
    },
    {
     "data": {
      "text/html": [
       "<div>\n",
       "<style scoped>\n",
       "    .dataframe tbody tr th:only-of-type {\n",
       "        vertical-align: middle;\n",
       "    }\n",
       "\n",
       "    .dataframe tbody tr th {\n",
       "        vertical-align: top;\n",
       "    }\n",
       "\n",
       "    .dataframe thead th {\n",
       "        text-align: right;\n",
       "    }\n",
       "</style>\n",
       "<table border=\"1\" class=\"dataframe\">\n",
       "  <thead>\n",
       "    <tr style=\"text-align: right;\">\n",
       "      <th></th>\n",
       "      <th>keycol</th>\n",
       "      <th>regionid</th>\n",
       "      <th>product</th>\n",
       "      <th>yearweek</th>\n",
       "      <th>qty</th>\n",
       "    </tr>\n",
       "  </thead>\n",
       "  <tbody>\n",
       "    <tr>\n",
       "      <th>0</th>\n",
       "      <td>A60_PRODUCT4</td>\n",
       "      <td>A60</td>\n",
       "      <td>PRODUCT4</td>\n",
       "      <td>201402</td>\n",
       "      <td>71.0</td>\n",
       "    </tr>\n",
       "    <tr>\n",
       "      <th>1</th>\n",
       "      <td>A60_PRODUCT59</td>\n",
       "      <td>A60</td>\n",
       "      <td>PRODUCT59</td>\n",
       "      <td>201402</td>\n",
       "      <td>22275.0</td>\n",
       "    </tr>\n",
       "    <tr>\n",
       "      <th>2</th>\n",
       "      <td>A60_PRODUCT34</td>\n",
       "      <td>A60</td>\n",
       "      <td>PRODUCT34</td>\n",
       "      <td>201402</td>\n",
       "      <td>4463.0</td>\n",
       "    </tr>\n",
       "    <tr>\n",
       "      <th>3</th>\n",
       "      <td>A60_PRODUCT47</td>\n",
       "      <td>A60</td>\n",
       "      <td>PRODUCT47</td>\n",
       "      <td>201402</td>\n",
       "      <td>0.0</td>\n",
       "    </tr>\n",
       "    <tr>\n",
       "      <th>4</th>\n",
       "      <td>A60_PRODUCT56</td>\n",
       "      <td>A60</td>\n",
       "      <td>PRODUCT56</td>\n",
       "      <td>201402</td>\n",
       "      <td>23.0</td>\n",
       "    </tr>\n",
       "  </tbody>\n",
       "</table>\n",
       "</div>"
      ],
      "text/plain": [
       "          keycol regionid    product  yearweek      qty\n",
       "0   A60_PRODUCT4      A60   PRODUCT4    201402     71.0\n",
       "1  A60_PRODUCT59      A60  PRODUCT59    201402  22275.0\n",
       "2  A60_PRODUCT34      A60  PRODUCT34    201402   4463.0\n",
       "3  A60_PRODUCT47      A60  PRODUCT47    201402      0.0\n",
       "4  A60_PRODUCT56      A60  PRODUCT56    201402     23.0"
      ]
     },
     "execution_count": 16,
     "metadata": {},
     "output_type": "execute_result"
    }
   ],
   "source": [
    "f1sellOutDt3Year = f1sellOutDt3Year\n",
    "print(f1sellOutDt3Year.dtypes)\n",
    "f1sellOutDt3Year.head()"
   ]
  },
  {
   "cell_type": "markdown",
   "metadata": {},
   "source": [
    "## 04.계절성 지수 산출"
   ]
  },
  {
   "cell_type": "code",
   "execution_count": 17,
   "metadata": {},
   "outputs": [],
   "source": [
    "refinedData = f1sellOutDt3Year"
   ]
  },
  {
   "cell_type": "markdown",
   "metadata": {},
   "source": [
    "##### 1.이동(평균/표준펴나) 함수 정의"
   ]
  },
  {
   "cell_type": "code",
   "execution_count": 18,
   "metadata": {},
   "outputs": [],
   "source": [
    "ma_section = 17\n",
    "std_section = 9\n",
    "sm_section = 9"
   ]
  },
  {
   "cell_type": "code",
   "execution_count": 19,
   "metadata": {},
   "outputs": [],
   "source": [
    "def ma_function(data, section, flag):    \n",
    "    data = data.reset_index(drop=True)\n",
    "    if(flag==\"ma\"):\n",
    "        data[\"ma\"]=data[\"qty\"].rolling(window=section, center=True, min_periods=1).mean()\n",
    "    else:\n",
    "        data[\"sm\"]=data[\"refined_qty\"].rolling(window=section, center=True, min_periods=1).mean()\n",
    "    return data"
   ]
  },
  {
   "cell_type": "code",
   "execution_count": 20,
   "metadata": {},
   "outputs": [],
   "source": [
    "def std_function(data, section):\n",
    "    data = data.reset_index(drop=True)\n",
    "    data[\"mstd\"]=data[\"ma\"].rolling(window=section ,center=True, min_periods=1).std()\n",
    "    return data"
   ]
  },
  {
   "cell_type": "markdown",
   "metadata": {},
   "source": [
    "##### 2. 지역, 상품별 판매 추세량 생성"
   ]
  },
  {
   "cell_type": "code",
   "execution_count": 21,
   "metadata": {},
   "outputs": [
    {
     "name": "stderr",
     "output_type": "stream",
     "text": [
      "C:\\Users\\kopo\\Anaconda3\\lib\\site-packages\\ipykernel_launcher.py:1: SettingWithCopyWarning: \n",
      "A value is trying to be set on a copy of a slice from a DataFrame\n",
      "\n",
      "See the caveats in the documentation: http://pandas.pydata.org/pandas-docs/stable/indexing.html#indexing-view-versus-copy\n",
      "  \"\"\"Entry point for launching an IPython kernel.\n"
     ]
    }
   ],
   "source": [
    "refinedData.sort_values([\"keycol\",\"yearweek\"], inplace=True)"
   ]
  },
  {
   "cell_type": "code",
   "execution_count": 22,
   "metadata": {},
   "outputs": [],
   "source": [
    "# 지역별 상품별 함수적용 groupby \n",
    "refinedData =refinedData.groupby([\"keycol\"]).apply(ma_function, ma_section, \"ma\")"
   ]
  },
  {
   "cell_type": "code",
   "execution_count": 23,
   "metadata": {
    "scrolled": true
   },
   "outputs": [
    {
     "data": {
      "text/html": [
       "<div>\n",
       "<style scoped>\n",
       "    .dataframe tbody tr th:only-of-type {\n",
       "        vertical-align: middle;\n",
       "    }\n",
       "\n",
       "    .dataframe tbody tr th {\n",
       "        vertical-align: top;\n",
       "    }\n",
       "\n",
       "    .dataframe thead th {\n",
       "        text-align: right;\n",
       "    }\n",
       "</style>\n",
       "<table border=\"1\" class=\"dataframe\">\n",
       "  <thead>\n",
       "    <tr style=\"text-align: right;\">\n",
       "      <th></th>\n",
       "      <th>keycol</th>\n",
       "      <th>regionid</th>\n",
       "      <th>product</th>\n",
       "      <th>yearweek</th>\n",
       "      <th>qty</th>\n",
       "      <th>ma</th>\n",
       "    </tr>\n",
       "  </thead>\n",
       "  <tbody>\n",
       "    <tr>\n",
       "      <th>0</th>\n",
       "      <td>A00_PRODUCT34</td>\n",
       "      <td>A00</td>\n",
       "      <td>PRODUCT34</td>\n",
       "      <td>201401</td>\n",
       "      <td>661.0</td>\n",
       "      <td>514.444444</td>\n",
       "    </tr>\n",
       "    <tr>\n",
       "      <th>1</th>\n",
       "      <td>A00_PRODUCT34</td>\n",
       "      <td>A00</td>\n",
       "      <td>PRODUCT34</td>\n",
       "      <td>201402</td>\n",
       "      <td>679.0</td>\n",
       "      <td>516.800000</td>\n",
       "    </tr>\n",
       "    <tr>\n",
       "      <th>2</th>\n",
       "      <td>A00_PRODUCT34</td>\n",
       "      <td>A00</td>\n",
       "      <td>PRODUCT34</td>\n",
       "      <td>201403</td>\n",
       "      <td>578.0</td>\n",
       "      <td>503.363636</td>\n",
       "    </tr>\n",
       "    <tr>\n",
       "      <th>3</th>\n",
       "      <td>A00_PRODUCT34</td>\n",
       "      <td>A00</td>\n",
       "      <td>PRODUCT34</td>\n",
       "      <td>201404</td>\n",
       "      <td>532.0</td>\n",
       "      <td>490.750000</td>\n",
       "    </tr>\n",
       "    <tr>\n",
       "      <th>4</th>\n",
       "      <td>A00_PRODUCT34</td>\n",
       "      <td>A00</td>\n",
       "      <td>PRODUCT34</td>\n",
       "      <td>201405</td>\n",
       "      <td>516.0</td>\n",
       "      <td>480.230769</td>\n",
       "    </tr>\n",
       "  </tbody>\n",
       "</table>\n",
       "</div>"
      ],
      "text/plain": [
       "          keycol regionid    product  yearweek    qty          ma\n",
       "0  A00_PRODUCT34      A00  PRODUCT34    201401  661.0  514.444444\n",
       "1  A00_PRODUCT34      A00  PRODUCT34    201402  679.0  516.800000\n",
       "2  A00_PRODUCT34      A00  PRODUCT34    201403  578.0  503.363636\n",
       "3  A00_PRODUCT34      A00  PRODUCT34    201404  532.0  490.750000\n",
       "4  A00_PRODUCT34      A00  PRODUCT34    201405  516.0  480.230769"
      ]
     },
     "execution_count": 23,
     "metadata": {},
     "output_type": "execute_result"
    }
   ],
   "source": [
    "refinedData.reset_index(drop=True,inplace=True) #groupby에러\n",
    "refinedData.head()"
   ]
  },
  {
   "cell_type": "markdown",
   "metadata": {},
   "source": [
    "##### 3. 지역, 상품별 이상치 정제"
   ]
  },
  {
   "cell_type": "code",
   "execution_count": 24,
   "metadata": {},
   "outputs": [
    {
     "data": {
      "text/html": [
       "<div>\n",
       "<style scoped>\n",
       "    .dataframe tbody tr th:only-of-type {\n",
       "        vertical-align: middle;\n",
       "    }\n",
       "\n",
       "    .dataframe tbody tr th {\n",
       "        vertical-align: top;\n",
       "    }\n",
       "\n",
       "    .dataframe thead th {\n",
       "        text-align: right;\n",
       "    }\n",
       "</style>\n",
       "<table border=\"1\" class=\"dataframe\">\n",
       "  <thead>\n",
       "    <tr style=\"text-align: right;\">\n",
       "      <th></th>\n",
       "      <th>keycol</th>\n",
       "      <th>regionid</th>\n",
       "      <th>product</th>\n",
       "      <th>yearweek</th>\n",
       "      <th>qty</th>\n",
       "      <th>ma</th>\n",
       "      <th>mstd</th>\n",
       "    </tr>\n",
       "  </thead>\n",
       "  <tbody>\n",
       "    <tr>\n",
       "      <th>0</th>\n",
       "      <td>A00_PRODUCT34</td>\n",
       "      <td>A00</td>\n",
       "      <td>PRODUCT34</td>\n",
       "      <td>201401</td>\n",
       "      <td>661.0</td>\n",
       "      <td>514.444444</td>\n",
       "      <td>15.591135</td>\n",
       "    </tr>\n",
       "    <tr>\n",
       "      <th>1</th>\n",
       "      <td>A00_PRODUCT34</td>\n",
       "      <td>A00</td>\n",
       "      <td>PRODUCT34</td>\n",
       "      <td>201402</td>\n",
       "      <td>679.0</td>\n",
       "      <td>516.800000</td>\n",
       "      <td>19.362507</td>\n",
       "    </tr>\n",
       "    <tr>\n",
       "      <th>2</th>\n",
       "      <td>A00_PRODUCT34</td>\n",
       "      <td>A00</td>\n",
       "      <td>PRODUCT34</td>\n",
       "      <td>201403</td>\n",
       "      <td>578.0</td>\n",
       "      <td>503.363636</td>\n",
       "      <td>23.007444</td>\n",
       "    </tr>\n",
       "    <tr>\n",
       "      <th>3</th>\n",
       "      <td>A00_PRODUCT34</td>\n",
       "      <td>A00</td>\n",
       "      <td>PRODUCT34</td>\n",
       "      <td>201404</td>\n",
       "      <td>532.0</td>\n",
       "      <td>490.750000</td>\n",
       "      <td>26.416662</td>\n",
       "    </tr>\n",
       "    <tr>\n",
       "      <th>4</th>\n",
       "      <td>A00_PRODUCT34</td>\n",
       "      <td>A00</td>\n",
       "      <td>PRODUCT34</td>\n",
       "      <td>201405</td>\n",
       "      <td>516.0</td>\n",
       "      <td>480.230769</td>\n",
       "      <td>29.984975</td>\n",
       "    </tr>\n",
       "  </tbody>\n",
       "</table>\n",
       "</div>"
      ],
      "text/plain": [
       "          keycol regionid    product  yearweek    qty          ma       mstd\n",
       "0  A00_PRODUCT34      A00  PRODUCT34    201401  661.0  514.444444  15.591135\n",
       "1  A00_PRODUCT34      A00  PRODUCT34    201402  679.0  516.800000  19.362507\n",
       "2  A00_PRODUCT34      A00  PRODUCT34    201403  578.0  503.363636  23.007444\n",
       "3  A00_PRODUCT34      A00  PRODUCT34    201404  532.0  490.750000  26.416662\n",
       "4  A00_PRODUCT34      A00  PRODUCT34    201405  516.0  480.230769  29.984975"
      ]
     },
     "execution_count": 24,
     "metadata": {},
     "output_type": "execute_result"
    }
   ],
   "source": [
    "refinedData = refinedData.groupby([\"keycol\"]).apply(std_function,std_section)\n",
    "refinedData.reset_index(drop=True,inplace=True) #groupby에러\n",
    "refinedData.head()"
   ]
  },
  {
   "cell_type": "code",
   "execution_count": 25,
   "metadata": {},
   "outputs": [],
   "source": [
    "refinedData[\"upper_band\"]=refinedData[\"ma\"]+refinedData[\"mstd\"]\n",
    "refinedData[\"lower_band\"]=refinedData[\"ma\"]-refinedData[\"mstd\"]"
   ]
  },
  {
   "cell_type": "code",
   "execution_count": 26,
   "metadata": {},
   "outputs": [],
   "source": [
    "refinedData['refined_qty'] = \\\n",
    "np.where(refinedData['qty']>refinedData['upper_band'],refinedData['ma'],\\\n",
    "        np.where(refinedData['qty']<refinedData['lower_band'],refinedData['ma'],refinedData['qty']))"
   ]
  },
  {
   "cell_type": "code",
   "execution_count": 27,
   "metadata": {},
   "outputs": [
    {
     "data": {
      "text/html": [
       "<div>\n",
       "<style scoped>\n",
       "    .dataframe tbody tr th:only-of-type {\n",
       "        vertical-align: middle;\n",
       "    }\n",
       "\n",
       "    .dataframe tbody tr th {\n",
       "        vertical-align: top;\n",
       "    }\n",
       "\n",
       "    .dataframe thead th {\n",
       "        text-align: right;\n",
       "    }\n",
       "</style>\n",
       "<table border=\"1\" class=\"dataframe\">\n",
       "  <thead>\n",
       "    <tr style=\"text-align: right;\">\n",
       "      <th></th>\n",
       "      <th>keycol</th>\n",
       "      <th>regionid</th>\n",
       "      <th>product</th>\n",
       "      <th>yearweek</th>\n",
       "      <th>qty</th>\n",
       "      <th>ma</th>\n",
       "      <th>mstd</th>\n",
       "      <th>upper_band</th>\n",
       "      <th>lower_band</th>\n",
       "      <th>refined_qty</th>\n",
       "    </tr>\n",
       "  </thead>\n",
       "  <tbody>\n",
       "    <tr>\n",
       "      <th>0</th>\n",
       "      <td>A00_PRODUCT34</td>\n",
       "      <td>A00</td>\n",
       "      <td>PRODUCT34</td>\n",
       "      <td>201401</td>\n",
       "      <td>661.0</td>\n",
       "      <td>514.444444</td>\n",
       "      <td>15.591135</td>\n",
       "      <td>530.035579</td>\n",
       "      <td>498.853309</td>\n",
       "      <td>514.444444</td>\n",
       "    </tr>\n",
       "    <tr>\n",
       "      <th>1</th>\n",
       "      <td>A00_PRODUCT34</td>\n",
       "      <td>A00</td>\n",
       "      <td>PRODUCT34</td>\n",
       "      <td>201402</td>\n",
       "      <td>679.0</td>\n",
       "      <td>516.800000</td>\n",
       "      <td>19.362507</td>\n",
       "      <td>536.162507</td>\n",
       "      <td>497.437493</td>\n",
       "      <td>516.800000</td>\n",
       "    </tr>\n",
       "    <tr>\n",
       "      <th>2</th>\n",
       "      <td>A00_PRODUCT34</td>\n",
       "      <td>A00</td>\n",
       "      <td>PRODUCT34</td>\n",
       "      <td>201403</td>\n",
       "      <td>578.0</td>\n",
       "      <td>503.363636</td>\n",
       "      <td>23.007444</td>\n",
       "      <td>526.371081</td>\n",
       "      <td>480.356192</td>\n",
       "      <td>503.363636</td>\n",
       "    </tr>\n",
       "    <tr>\n",
       "      <th>3</th>\n",
       "      <td>A00_PRODUCT34</td>\n",
       "      <td>A00</td>\n",
       "      <td>PRODUCT34</td>\n",
       "      <td>201404</td>\n",
       "      <td>532.0</td>\n",
       "      <td>490.750000</td>\n",
       "      <td>26.416662</td>\n",
       "      <td>517.166662</td>\n",
       "      <td>464.333338</td>\n",
       "      <td>490.750000</td>\n",
       "    </tr>\n",
       "    <tr>\n",
       "      <th>4</th>\n",
       "      <td>A00_PRODUCT34</td>\n",
       "      <td>A00</td>\n",
       "      <td>PRODUCT34</td>\n",
       "      <td>201405</td>\n",
       "      <td>516.0</td>\n",
       "      <td>480.230769</td>\n",
       "      <td>29.984975</td>\n",
       "      <td>510.215744</td>\n",
       "      <td>450.245795</td>\n",
       "      <td>480.230769</td>\n",
       "    </tr>\n",
       "  </tbody>\n",
       "</table>\n",
       "</div>"
      ],
      "text/plain": [
       "          keycol regionid    product  yearweek    qty          ma       mstd  \\\n",
       "0  A00_PRODUCT34      A00  PRODUCT34    201401  661.0  514.444444  15.591135   \n",
       "1  A00_PRODUCT34      A00  PRODUCT34    201402  679.0  516.800000  19.362507   \n",
       "2  A00_PRODUCT34      A00  PRODUCT34    201403  578.0  503.363636  23.007444   \n",
       "3  A00_PRODUCT34      A00  PRODUCT34    201404  532.0  490.750000  26.416662   \n",
       "4  A00_PRODUCT34      A00  PRODUCT34    201405  516.0  480.230769  29.984975   \n",
       "\n",
       "   upper_band  lower_band  refined_qty  \n",
       "0  530.035579  498.853309   514.444444  \n",
       "1  536.162507  497.437493   516.800000  \n",
       "2  526.371081  480.356192   503.363636  \n",
       "3  517.166662  464.333338   490.750000  \n",
       "4  510.215744  450.245795   480.230769  "
      ]
     },
     "execution_count": 27,
     "metadata": {},
     "output_type": "execute_result"
    }
   ],
   "source": [
    "refinedData.head()"
   ]
  },
  {
   "cell_type": "markdown",
   "metadata": {},
   "source": [
    "##### 4. 지역, 상품별 판매 추세선 생성"
   ]
  },
  {
   "cell_type": "code",
   "execution_count": 28,
   "metadata": {
    "scrolled": true
   },
   "outputs": [
    {
     "data": {
      "text/html": [
       "<div>\n",
       "<style scoped>\n",
       "    .dataframe tbody tr th:only-of-type {\n",
       "        vertical-align: middle;\n",
       "    }\n",
       "\n",
       "    .dataframe tbody tr th {\n",
       "        vertical-align: top;\n",
       "    }\n",
       "\n",
       "    .dataframe thead th {\n",
       "        text-align: right;\n",
       "    }\n",
       "</style>\n",
       "<table border=\"1\" class=\"dataframe\">\n",
       "  <thead>\n",
       "    <tr style=\"text-align: right;\">\n",
       "      <th></th>\n",
       "      <th>keycol</th>\n",
       "      <th>regionid</th>\n",
       "      <th>product</th>\n",
       "      <th>yearweek</th>\n",
       "      <th>qty</th>\n",
       "      <th>ma</th>\n",
       "      <th>mstd</th>\n",
       "      <th>upper_band</th>\n",
       "      <th>lower_band</th>\n",
       "      <th>refined_qty</th>\n",
       "      <th>sm</th>\n",
       "    </tr>\n",
       "  </thead>\n",
       "  <tbody>\n",
       "    <tr>\n",
       "      <th>0</th>\n",
       "      <td>A00_PRODUCT34</td>\n",
       "      <td>A00</td>\n",
       "      <td>PRODUCT34</td>\n",
       "      <td>201401</td>\n",
       "      <td>661.0</td>\n",
       "      <td>514.444444</td>\n",
       "      <td>15.591135</td>\n",
       "      <td>530.035579</td>\n",
       "      <td>498.853309</td>\n",
       "      <td>514.444444</td>\n",
       "      <td>501.117770</td>\n",
       "    </tr>\n",
       "    <tr>\n",
       "      <th>1</th>\n",
       "      <td>A00_PRODUCT34</td>\n",
       "      <td>A00</td>\n",
       "      <td>PRODUCT34</td>\n",
       "      <td>201402</td>\n",
       "      <td>679.0</td>\n",
       "      <td>516.800000</td>\n",
       "      <td>19.362507</td>\n",
       "      <td>536.162507</td>\n",
       "      <td>497.437493</td>\n",
       "      <td>516.800000</td>\n",
       "      <td>495.633856</td>\n",
       "    </tr>\n",
       "    <tr>\n",
       "      <th>2</th>\n",
       "      <td>A00_PRODUCT34</td>\n",
       "      <td>A00</td>\n",
       "      <td>PRODUCT34</td>\n",
       "      <td>201403</td>\n",
       "      <td>578.0</td>\n",
       "      <td>503.363636</td>\n",
       "      <td>23.007444</td>\n",
       "      <td>526.371081</td>\n",
       "      <td>480.356192</td>\n",
       "      <td>503.363636</td>\n",
       "      <td>490.067115</td>\n",
       "    </tr>\n",
       "    <tr>\n",
       "      <th>3</th>\n",
       "      <td>A00_PRODUCT34</td>\n",
       "      <td>A00</td>\n",
       "      <td>PRODUCT34</td>\n",
       "      <td>201404</td>\n",
       "      <td>532.0</td>\n",
       "      <td>490.750000</td>\n",
       "      <td>26.416662</td>\n",
       "      <td>517.166662</td>\n",
       "      <td>464.333338</td>\n",
       "      <td>490.750000</td>\n",
       "      <td>484.543100</td>\n",
       "    </tr>\n",
       "    <tr>\n",
       "      <th>4</th>\n",
       "      <td>A00_PRODUCT34</td>\n",
       "      <td>A00</td>\n",
       "      <td>PRODUCT34</td>\n",
       "      <td>201405</td>\n",
       "      <td>516.0</td>\n",
       "      <td>480.230769</td>\n",
       "      <td>29.984975</td>\n",
       "      <td>510.215744</td>\n",
       "      <td>450.245795</td>\n",
       "      <td>480.230769</td>\n",
       "      <td>482.927200</td>\n",
       "    </tr>\n",
       "  </tbody>\n",
       "</table>\n",
       "</div>"
      ],
      "text/plain": [
       "          keycol regionid    product  yearweek    qty          ma       mstd  \\\n",
       "0  A00_PRODUCT34      A00  PRODUCT34    201401  661.0  514.444444  15.591135   \n",
       "1  A00_PRODUCT34      A00  PRODUCT34    201402  679.0  516.800000  19.362507   \n",
       "2  A00_PRODUCT34      A00  PRODUCT34    201403  578.0  503.363636  23.007444   \n",
       "3  A00_PRODUCT34      A00  PRODUCT34    201404  532.0  490.750000  26.416662   \n",
       "4  A00_PRODUCT34      A00  PRODUCT34    201405  516.0  480.230769  29.984975   \n",
       "\n",
       "   upper_band  lower_band  refined_qty          sm  \n",
       "0  530.035579  498.853309   514.444444  501.117770  \n",
       "1  536.162507  497.437493   516.800000  495.633856  \n",
       "2  526.371081  480.356192   503.363636  490.067115  \n",
       "3  517.166662  464.333338   490.750000  484.543100  \n",
       "4  510.215744  450.245795   480.230769  482.927200  "
      ]
     },
     "execution_count": 28,
     "metadata": {},
     "output_type": "execute_result"
    }
   ],
   "source": [
    "# 지역별 상품별 함수적용 groupby \n",
    "refinedData =refinedData.groupby([\"keycol\"]).apply(ma_function, sm_section, \"sm\")\n",
    "refinedData.reset_index(drop=True,inplace=True) #groupby에러\n",
    "refinedData.head()"
   ]
  },
  {
   "cell_type": "markdown",
   "metadata": {},
   "source": [
    "##### 5. 계절성 지수 산출 (계절성 지수 = 실제판매량/스무딩처리)"
   ]
  },
  {
   "cell_type": "code",
   "execution_count": 29,
   "metadata": {},
   "outputs": [],
   "source": [
    "refinedData[\"ratio\"]=refinedData.qty/refinedData.sm"
   ]
  },
  {
   "cell_type": "code",
   "execution_count": 30,
   "metadata": {},
   "outputs": [
    {
     "data": {
      "text/html": [
       "<div>\n",
       "<style scoped>\n",
       "    .dataframe tbody tr th:only-of-type {\n",
       "        vertical-align: middle;\n",
       "    }\n",
       "\n",
       "    .dataframe tbody tr th {\n",
       "        vertical-align: top;\n",
       "    }\n",
       "\n",
       "    .dataframe thead th {\n",
       "        text-align: right;\n",
       "    }\n",
       "</style>\n",
       "<table border=\"1\" class=\"dataframe\">\n",
       "  <thead>\n",
       "    <tr style=\"text-align: right;\">\n",
       "      <th></th>\n",
       "      <th>keycol</th>\n",
       "      <th>regionid</th>\n",
       "      <th>product</th>\n",
       "      <th>yearweek</th>\n",
       "      <th>qty</th>\n",
       "      <th>ma</th>\n",
       "      <th>mstd</th>\n",
       "      <th>upper_band</th>\n",
       "      <th>lower_band</th>\n",
       "      <th>refined_qty</th>\n",
       "      <th>sm</th>\n",
       "      <th>ratio</th>\n",
       "    </tr>\n",
       "  </thead>\n",
       "  <tbody>\n",
       "    <tr>\n",
       "      <th>0</th>\n",
       "      <td>A00_PRODUCT34</td>\n",
       "      <td>A00</td>\n",
       "      <td>PRODUCT34</td>\n",
       "      <td>201401</td>\n",
       "      <td>661.0</td>\n",
       "      <td>514.444444</td>\n",
       "      <td>15.591135</td>\n",
       "      <td>530.035579</td>\n",
       "      <td>498.853309</td>\n",
       "      <td>514.444444</td>\n",
       "      <td>501.117770</td>\n",
       "      <td>1.319051</td>\n",
       "    </tr>\n",
       "    <tr>\n",
       "      <th>1</th>\n",
       "      <td>A00_PRODUCT34</td>\n",
       "      <td>A00</td>\n",
       "      <td>PRODUCT34</td>\n",
       "      <td>201402</td>\n",
       "      <td>679.0</td>\n",
       "      <td>516.800000</td>\n",
       "      <td>19.362507</td>\n",
       "      <td>536.162507</td>\n",
       "      <td>497.437493</td>\n",
       "      <td>516.800000</td>\n",
       "      <td>495.633856</td>\n",
       "      <td>1.369963</td>\n",
       "    </tr>\n",
       "    <tr>\n",
       "      <th>2</th>\n",
       "      <td>A00_PRODUCT34</td>\n",
       "      <td>A00</td>\n",
       "      <td>PRODUCT34</td>\n",
       "      <td>201403</td>\n",
       "      <td>578.0</td>\n",
       "      <td>503.363636</td>\n",
       "      <td>23.007444</td>\n",
       "      <td>526.371081</td>\n",
       "      <td>480.356192</td>\n",
       "      <td>503.363636</td>\n",
       "      <td>490.067115</td>\n",
       "      <td>1.179430</td>\n",
       "    </tr>\n",
       "    <tr>\n",
       "      <th>3</th>\n",
       "      <td>A00_PRODUCT34</td>\n",
       "      <td>A00</td>\n",
       "      <td>PRODUCT34</td>\n",
       "      <td>201404</td>\n",
       "      <td>532.0</td>\n",
       "      <td>490.750000</td>\n",
       "      <td>26.416662</td>\n",
       "      <td>517.166662</td>\n",
       "      <td>464.333338</td>\n",
       "      <td>490.750000</td>\n",
       "      <td>484.543100</td>\n",
       "      <td>1.097942</td>\n",
       "    </tr>\n",
       "    <tr>\n",
       "      <th>4</th>\n",
       "      <td>A00_PRODUCT34</td>\n",
       "      <td>A00</td>\n",
       "      <td>PRODUCT34</td>\n",
       "      <td>201405</td>\n",
       "      <td>516.0</td>\n",
       "      <td>480.230769</td>\n",
       "      <td>29.984975</td>\n",
       "      <td>510.215744</td>\n",
       "      <td>450.245795</td>\n",
       "      <td>480.230769</td>\n",
       "      <td>482.927200</td>\n",
       "      <td>1.068484</td>\n",
       "    </tr>\n",
       "  </tbody>\n",
       "</table>\n",
       "</div>"
      ],
      "text/plain": [
       "          keycol regionid    product  yearweek    qty          ma       mstd  \\\n",
       "0  A00_PRODUCT34      A00  PRODUCT34    201401  661.0  514.444444  15.591135   \n",
       "1  A00_PRODUCT34      A00  PRODUCT34    201402  679.0  516.800000  19.362507   \n",
       "2  A00_PRODUCT34      A00  PRODUCT34    201403  578.0  503.363636  23.007444   \n",
       "3  A00_PRODUCT34      A00  PRODUCT34    201404  532.0  490.750000  26.416662   \n",
       "4  A00_PRODUCT34      A00  PRODUCT34    201405  516.0  480.230769  29.984975   \n",
       "\n",
       "   upper_band  lower_band  refined_qty          sm     ratio  \n",
       "0  530.035579  498.853309   514.444444  501.117770  1.319051  \n",
       "1  536.162507  497.437493   516.800000  495.633856  1.369963  \n",
       "2  526.371081  480.356192   503.363636  490.067115  1.179430  \n",
       "3  517.166662  464.333338   490.750000  484.543100  1.097942  \n",
       "4  510.215744  450.245795   480.230769  482.927200  1.068484  "
      ]
     },
     "execution_count": 30,
     "metadata": {},
     "output_type": "execute_result"
    }
   ],
   "source": [
    "refinedData.head()"
   ]
  },
  {
   "cell_type": "code",
   "execution_count": 31,
   "metadata": {},
   "outputs": [],
   "source": [
    "refinedData.to_csv(\"./kopo_batch_season_middle_result.csv\", index=False)"
   ]
  },
  {
   "cell_type": "markdown",
   "metadata": {},
   "source": [
    "##### 6. 주차별 계절성 지수 산출"
   ]
  },
  {
   "cell_type": "code",
   "execution_count": 32,
   "metadata": {},
   "outputs": [],
   "source": [
    "refinedData[\"week\"]=refinedData.yearweek.astype(str).str[4:6]"
   ]
  },
  {
   "cell_type": "code",
   "execution_count": 33,
   "metadata": {},
   "outputs": [],
   "source": [
    "seasonResult = refinedData.groupby(['keycol','week']).mean()[['ratio']]"
   ]
  },
  {
   "cell_type": "code",
   "execution_count": 34,
   "metadata": {},
   "outputs": [],
   "source": [
    "seasonResult.reset_index(inplace=True)"
   ]
  },
  {
   "cell_type": "code",
   "execution_count": 35,
   "metadata": {
    "scrolled": true
   },
   "outputs": [
    {
     "data": {
      "text/html": [
       "<div>\n",
       "<style scoped>\n",
       "    .dataframe tbody tr th:only-of-type {\n",
       "        vertical-align: middle;\n",
       "    }\n",
       "\n",
       "    .dataframe tbody tr th {\n",
       "        vertical-align: top;\n",
       "    }\n",
       "\n",
       "    .dataframe thead th {\n",
       "        text-align: right;\n",
       "    }\n",
       "</style>\n",
       "<table border=\"1\" class=\"dataframe\">\n",
       "  <thead>\n",
       "    <tr style=\"text-align: right;\">\n",
       "      <th></th>\n",
       "      <th>keycol</th>\n",
       "      <th>week</th>\n",
       "      <th>ratio</th>\n",
       "    </tr>\n",
       "  </thead>\n",
       "  <tbody>\n",
       "    <tr>\n",
       "      <th>0</th>\n",
       "      <td>A00_PRODUCT34</td>\n",
       "      <td>01</td>\n",
       "      <td>0.932722</td>\n",
       "    </tr>\n",
       "    <tr>\n",
       "      <th>1</th>\n",
       "      <td>A00_PRODUCT34</td>\n",
       "      <td>02</td>\n",
       "      <td>1.092057</td>\n",
       "    </tr>\n",
       "    <tr>\n",
       "      <th>2</th>\n",
       "      <td>A00_PRODUCT34</td>\n",
       "      <td>03</td>\n",
       "      <td>0.833640</td>\n",
       "    </tr>\n",
       "    <tr>\n",
       "      <th>3</th>\n",
       "      <td>A00_PRODUCT34</td>\n",
       "      <td>04</td>\n",
       "      <td>1.009971</td>\n",
       "    </tr>\n",
       "    <tr>\n",
       "      <th>4</th>\n",
       "      <td>A00_PRODUCT34</td>\n",
       "      <td>05</td>\n",
       "      <td>0.710346</td>\n",
       "    </tr>\n",
       "  </tbody>\n",
       "</table>\n",
       "</div>"
      ],
      "text/plain": [
       "          keycol week     ratio\n",
       "0  A00_PRODUCT34   01  0.932722\n",
       "1  A00_PRODUCT34   02  1.092057\n",
       "2  A00_PRODUCT34   03  0.833640\n",
       "3  A00_PRODUCT34   04  1.009971\n",
       "4  A00_PRODUCT34   05  0.710346"
      ]
     },
     "execution_count": 35,
     "metadata": {},
     "output_type": "execute_result"
    }
   ],
   "source": [
    "seasonResult.head()"
   ]
  },
  {
   "cell_type": "markdown",
   "metadata": {},
   "source": [
    "##### 5. 데이터 저장"
   ]
  },
  {
   "cell_type": "code",
   "execution_count": 36,
   "metadata": {},
   "outputs": [
    {
     "data": {
      "text/plain": [
       "keycol     object\n",
       "week       object\n",
       "ratio     float64\n",
       "dtype: object"
      ]
     },
     "execution_count": 36,
     "metadata": {},
     "output_type": "execute_result"
    }
   ],
   "source": [
    "seasonResult.dtypes"
   ]
  },
  {
   "cell_type": "code",
   "execution_count": 37,
   "metadata": {},
   "outputs": [],
   "source": [
    "seasonResult.to_csv(\"./kopo_batch_season_result.csv\", index=False)"
   ]
  },
  {
   "cell_type": "markdown",
   "metadata": {},
   "source": [
    "## 05. 시각화"
   ]
  },
  {
   "cell_type": "code",
   "execution_count": 38,
   "metadata": {},
   "outputs": [],
   "source": [
    "keyList=[\"A00_PRODUCT34\"]"
   ]
  },
  {
   "cell_type": "code",
   "execution_count": 39,
   "metadata": {},
   "outputs": [
    {
     "data": {
      "text/html": [
       "<div>\n",
       "<style scoped>\n",
       "    .dataframe tbody tr th:only-of-type {\n",
       "        vertical-align: middle;\n",
       "    }\n",
       "\n",
       "    .dataframe tbody tr th {\n",
       "        vertical-align: top;\n",
       "    }\n",
       "\n",
       "    .dataframe thead th {\n",
       "        text-align: right;\n",
       "    }\n",
       "</style>\n",
       "<table border=\"1\" class=\"dataframe\">\n",
       "  <thead>\n",
       "    <tr style=\"text-align: right;\">\n",
       "      <th></th>\n",
       "      <th>keycol</th>\n",
       "      <th>regionid</th>\n",
       "      <th>product</th>\n",
       "      <th>yearweek</th>\n",
       "      <th>qty</th>\n",
       "      <th>ma</th>\n",
       "      <th>mstd</th>\n",
       "      <th>upper_band</th>\n",
       "      <th>lower_band</th>\n",
       "      <th>refined_qty</th>\n",
       "      <th>sm</th>\n",
       "      <th>ratio</th>\n",
       "      <th>week</th>\n",
       "    </tr>\n",
       "  </thead>\n",
       "  <tbody>\n",
       "    <tr>\n",
       "      <th>104</th>\n",
       "      <td>A00_PRODUCT34</td>\n",
       "      <td>A00</td>\n",
       "      <td>PRODUCT34</td>\n",
       "      <td>201601</td>\n",
       "      <td>21.0</td>\n",
       "      <td>63.588235</td>\n",
       "      <td>12.486567</td>\n",
       "      <td>76.074802</td>\n",
       "      <td>51.101668</td>\n",
       "      <td>63.588235</td>\n",
       "      <td>65.823529</td>\n",
       "      <td>0.319035</td>\n",
       "      <td>01</td>\n",
       "    </tr>\n",
       "    <tr>\n",
       "      <th>105</th>\n",
       "      <td>A00_PRODUCT34</td>\n",
       "      <td>A00</td>\n",
       "      <td>PRODUCT34</td>\n",
       "      <td>201602</td>\n",
       "      <td>22.0</td>\n",
       "      <td>58.352941</td>\n",
       "      <td>10.742803</td>\n",
       "      <td>69.095745</td>\n",
       "      <td>47.610138</td>\n",
       "      <td>58.352941</td>\n",
       "      <td>61.712418</td>\n",
       "      <td>0.356492</td>\n",
       "      <td>02</td>\n",
       "    </tr>\n",
       "    <tr>\n",
       "      <th>106</th>\n",
       "      <td>A00_PRODUCT34</td>\n",
       "      <td>A00</td>\n",
       "      <td>PRODUCT34</td>\n",
       "      <td>201603</td>\n",
       "      <td>23.0</td>\n",
       "      <td>55.882353</td>\n",
       "      <td>9.151361</td>\n",
       "      <td>65.033714</td>\n",
       "      <td>46.730992</td>\n",
       "      <td>55.882353</td>\n",
       "      <td>58.019608</td>\n",
       "      <td>0.396418</td>\n",
       "      <td>03</td>\n",
       "    </tr>\n",
       "    <tr>\n",
       "      <th>107</th>\n",
       "      <td>A00_PRODUCT34</td>\n",
       "      <td>A00</td>\n",
       "      <td>PRODUCT34</td>\n",
       "      <td>201604</td>\n",
       "      <td>28.0</td>\n",
       "      <td>53.176471</td>\n",
       "      <td>7.740213</td>\n",
       "      <td>60.916684</td>\n",
       "      <td>45.436257</td>\n",
       "      <td>53.176471</td>\n",
       "      <td>54.745098</td>\n",
       "      <td>0.511461</td>\n",
       "      <td>04</td>\n",
       "    </tr>\n",
       "    <tr>\n",
       "      <th>108</th>\n",
       "      <td>A00_PRODUCT34</td>\n",
       "      <td>A00</td>\n",
       "      <td>PRODUCT34</td>\n",
       "      <td>201605</td>\n",
       "      <td>19.0</td>\n",
       "      <td>51.529412</td>\n",
       "      <td>13.324842</td>\n",
       "      <td>64.854254</td>\n",
       "      <td>38.204569</td>\n",
       "      <td>51.529412</td>\n",
       "      <td>48.124183</td>\n",
       "      <td>0.394812</td>\n",
       "      <td>05</td>\n",
       "    </tr>\n",
       "  </tbody>\n",
       "</table>\n",
       "</div>"
      ],
      "text/plain": [
       "            keycol regionid    product  yearweek   qty         ma       mstd  \\\n",
       "104  A00_PRODUCT34      A00  PRODUCT34    201601  21.0  63.588235  12.486567   \n",
       "105  A00_PRODUCT34      A00  PRODUCT34    201602  22.0  58.352941  10.742803   \n",
       "106  A00_PRODUCT34      A00  PRODUCT34    201603  23.0  55.882353   9.151361   \n",
       "107  A00_PRODUCT34      A00  PRODUCT34    201604  28.0  53.176471   7.740213   \n",
       "108  A00_PRODUCT34      A00  PRODUCT34    201605  19.0  51.529412  13.324842   \n",
       "\n",
       "     upper_band  lower_band  refined_qty         sm     ratio week  \n",
       "104   76.074802   51.101668    63.588235  65.823529  0.319035   01  \n",
       "105   69.095745   47.610138    58.352941  61.712418  0.356492   02  \n",
       "106   65.033714   46.730992    55.882353  58.019608  0.396418   03  \n",
       "107   60.916684   45.436257    53.176471  54.745098  0.511461   04  \n",
       "108   64.854254   38.204569    51.529412  48.124183  0.394812   05  "
      ]
     },
     "execution_count": 39,
     "metadata": {},
     "output_type": "execute_result"
    }
   ],
   "source": [
    "visualData = refinedData[ (refinedData.keycol.isin(keyList)) & \n",
    "                          (refinedData.yearweek > 201600)]\n",
    "visualData.head()"
   ]
  },
  {
   "cell_type": "code",
   "execution_count": 40,
   "metadata": {
    "scrolled": true
   },
   "outputs": [
    {
     "data": {
      "text/html": [
       "<div>\n",
       "<style scoped>\n",
       "    .dataframe tbody tr th:only-of-type {\n",
       "        vertical-align: middle;\n",
       "    }\n",
       "\n",
       "    .dataframe tbody tr th {\n",
       "        vertical-align: top;\n",
       "    }\n",
       "\n",
       "    .dataframe thead th {\n",
       "        text-align: right;\n",
       "    }\n",
       "</style>\n",
       "<table border=\"1\" class=\"dataframe\">\n",
       "  <thead>\n",
       "    <tr style=\"text-align: right;\">\n",
       "      <th></th>\n",
       "      <th>qty</th>\n",
       "      <th>ma</th>\n",
       "      <th>sm</th>\n",
       "      <th>ratio</th>\n",
       "      <th>upper_band</th>\n",
       "      <th>lower_band</th>\n",
       "      <th>refined_qty</th>\n",
       "    </tr>\n",
       "    <tr>\n",
       "      <th>yearweek</th>\n",
       "      <th></th>\n",
       "      <th></th>\n",
       "      <th></th>\n",
       "      <th></th>\n",
       "      <th></th>\n",
       "      <th></th>\n",
       "      <th></th>\n",
       "    </tr>\n",
       "  </thead>\n",
       "  <tbody>\n",
       "    <tr>\n",
       "      <th>201601</th>\n",
       "      <td>21.0</td>\n",
       "      <td>63.588235</td>\n",
       "      <td>65.823529</td>\n",
       "      <td>0.319035</td>\n",
       "      <td>76.074802</td>\n",
       "      <td>51.101668</td>\n",
       "      <td>63.588235</td>\n",
       "    </tr>\n",
       "    <tr>\n",
       "      <th>201602</th>\n",
       "      <td>22.0</td>\n",
       "      <td>58.352941</td>\n",
       "      <td>61.712418</td>\n",
       "      <td>0.356492</td>\n",
       "      <td>69.095745</td>\n",
       "      <td>47.610138</td>\n",
       "      <td>58.352941</td>\n",
       "    </tr>\n",
       "    <tr>\n",
       "      <th>201603</th>\n",
       "      <td>23.0</td>\n",
       "      <td>55.882353</td>\n",
       "      <td>58.019608</td>\n",
       "      <td>0.396418</td>\n",
       "      <td>65.033714</td>\n",
       "      <td>46.730992</td>\n",
       "      <td>55.882353</td>\n",
       "    </tr>\n",
       "    <tr>\n",
       "      <th>201604</th>\n",
       "      <td>28.0</td>\n",
       "      <td>53.176471</td>\n",
       "      <td>54.745098</td>\n",
       "      <td>0.511461</td>\n",
       "      <td>60.916684</td>\n",
       "      <td>45.436257</td>\n",
       "      <td>53.176471</td>\n",
       "    </tr>\n",
       "    <tr>\n",
       "      <th>201605</th>\n",
       "      <td>19.0</td>\n",
       "      <td>51.529412</td>\n",
       "      <td>48.124183</td>\n",
       "      <td>0.394812</td>\n",
       "      <td>64.854254</td>\n",
       "      <td>38.204569</td>\n",
       "      <td>51.529412</td>\n",
       "    </tr>\n",
       "  </tbody>\n",
       "</table>\n",
       "</div>"
      ],
      "text/plain": [
       "           qty         ma         sm     ratio  upper_band  lower_band  \\\n",
       "yearweek                                                                 \n",
       "201601    21.0  63.588235  65.823529  0.319035   76.074802   51.101668   \n",
       "201602    22.0  58.352941  61.712418  0.356492   69.095745   47.610138   \n",
       "201603    23.0  55.882353  58.019608  0.396418   65.033714   46.730992   \n",
       "201604    28.0  53.176471  54.745098  0.511461   60.916684   45.436257   \n",
       "201605    19.0  51.529412  48.124183  0.394812   64.854254   38.204569   \n",
       "\n",
       "          refined_qty  \n",
       "yearweek               \n",
       "201601      63.588235  \n",
       "201602      58.352941  \n",
       "201603      55.882353  \n",
       "201604      53.176471  \n",
       "201605      51.529412  "
      ]
     },
     "execution_count": 40,
     "metadata": {},
     "output_type": "execute_result"
    }
   ],
   "source": [
    "visualData2 = visualData[[\"yearweek\",\"qty\",\"ma\",\"sm\",\"ratio\",\"upper_band\",\"lower_band\",\"refined_qty\"]].set_index('yearweek')\n",
    "visualData2.head()"
   ]
  },
  {
   "cell_type": "code",
   "execution_count": 41,
   "metadata": {},
   "outputs": [
    {
     "data": {
      "text/plain": [
       "<matplotlib.axes._subplots.AxesSubplot at 0x1be5fbfa780>"
      ]
     },
     "execution_count": 41,
     "metadata": {},
     "output_type": "execute_result"
    },
    {
     "data": {
      "image/png": "[encoded data removed]",
      "text/plain": [
       "<Figure size 1440x576 with 2 Axes>"
      ]
     },
     "metadata": {
      "needs_background": "light"
     },
     "output_type": "display_data"
    }
   ],
   "source": [
    "import seaborn as sns; sns.set()\n",
    "import matplotlib.pyplot as plt\n",
    "# 커맨드뷰에서 차트 시여\n",
    "%matplotlib inline\n",
    "plt.figure(figsize=(20,8))\n",
    "\n",
    "plt.subplot(211)\n",
    "sns.lineplot( data=[visualData2.qty, visualData2.refined_qty, visualData2.sm])\n",
    "plt.subplot(212)\n",
    "sns.lineplot(data=[visualData2.ratio])"
   ]
  }
 ],
 "metadata": {
  "kernelspec": {
   "display_name": "Python 3",
   "language": "python",
   "name": "python3"
  },
  "language_info": {
   "codemirror_mode": {
    "name": "ipython",
    "version": 3
   },
   "file_extension": ".py",
   "mimetype": "text/x-python",
   "name": "python",
   "nbconvert_exporter": "python",
   "pygments_lexer": "ipython3",
   "version": "3.7.3"
  }
 },
 "nbformat": 4,
 "nbformat_minor": 2
}
